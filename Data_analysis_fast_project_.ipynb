{
  "nbformat": 4,
  "nbformat_minor": 0,
  "metadata": {
    "colab": {
      "private_outputs": true,
      "provenance": []
    },
    "kernelspec": {
      "name": "python3",
      "display_name": "Python 3"
    },
    "language_info": {
      "name": "python"
    }
  },
  "cells": [
    {
      "cell_type": "code",
      "execution_count": null,
      "metadata": {
        "id": "kVvswPrdNmFK"
      },
      "outputs": [],
      "source": [
        "import numpy as np \n",
        "import pandas as pd\n",
        "import matplotlib as plt\n",
        "%matplotlib inline"
      ]
    },
    {
      "cell_type": "markdown",
      "source": [
        "# Data Analysis of IMDB movies data\n",
        "I have a basic understanding of the different data structures in Pandas, let’s explore the fun and interesting ‘IMDB-movies-dataset’ and get our hands dirty by performing practical data analysis on real data."
      ],
      "metadata": {
        "id": "WTdxOC4WOzdl"
      }
    },
    {
      "cell_type": "markdown",
      "source": [
        "# I will read the data from the .csv file and perform the following basic operations on movies data\n",
        "\n",
        "# 1.Read data\n",
        "#2.View the data\n",
        "#3.Understand some basic information about the data\n",
        "#4.Data Selection – Indexing and Slicing data\n",
        "#5.Data Selection – Based on Conditional filtering\n",
        "#6.Groupby operations\n",
        "#7.Sorting operation\n",
        "#8.Dealing with missing values\n",
        "#9.Dropping columns and null values\n",
        "#10.Apply( ) functions **bold text**"
      ],
      "metadata": {
        "id": "83s_apqNPd_4"
      }
    },
    {
      "cell_type": "code",
      "source": [
        "from google.colab import files \n",
        "upload = files.upload()"
      ],
      "metadata": {
        "id": "FSMF1AcLN_z8"
      },
      "execution_count": null,
      "outputs": []
    },
    {
      "cell_type": "markdown",
      "source": [
        "#1.Read data\n",
        "load csv file"
      ],
      "metadata": {
        "id": "BddHCx2CRt_z"
      }
    },
    {
      "cell_type": "code",
      "source": [
        "df=pd.read_csv('IMDB-Movie-Data.csv')"
      ],
      "metadata": {
        "id": "1fY50OU_Osmc"
      },
      "execution_count": null,
      "outputs": []
    },
    {
      "cell_type": "markdown",
      "source": [
        "# 2. View data\n",
        "\n",
        "\n"
      ],
      "metadata": {
        "id": "CSHWfiyYQaCQ"
      }
    },
    {
      "cell_type": "code",
      "source": [
        "df.head()"
      ],
      "metadata": {
        "id": "zf0ATbP_Ri6A"
      },
      "execution_count": null,
      "outputs": []
    },
    {
      "cell_type": "markdown",
      "source": [
        "# 3. Understand basic information about the data"
      ],
      "metadata": {
        "id": "lofb0xm1SG_k"
      }
    },
    {
      "cell_type": "code",
      "source": [
        "df.info()"
      ],
      "metadata": {
        "id": "q6lZCT93SKmT"
      },
      "execution_count": null,
      "outputs": []
    },
    {
      "cell_type": "code",
      "source": [
        "df.describe()"
      ],
      "metadata": {
        "id": "PRHTyDoLSYLZ"
      },
      "execution_count": null,
      "outputs": []
    },
    {
      "cell_type": "code",
      "source": [
        "df.shape"
      ],
      "metadata": {
        "id": "PRBb7kt1Slax"
      },
      "execution_count": null,
      "outputs": []
    },
    {
      "cell_type": "markdown",
      "source": [
        "# 4. Data Selection – Indexing and Slicing"
      ],
      "metadata": {
        "id": "jHGO5WWPkD-4"
      }
    },
    {
      "cell_type": "code",
      "source": [
        "genre = df['Genre']\n",
        "genre"
      ],
      "metadata": {
        "id": "8CRE6VRZkCVc"
      },
      "execution_count": null,
      "outputs": []
    },
    {
      "cell_type": "code",
      "source": [
        "some_cols = df[['Title','Genre','Actors','Director','Rating']]\n",
        "some_cols"
      ],
      "metadata": {
        "id": "gP4D4c2ZkhrA"
      },
      "execution_count": null,
      "outputs": []
    },
    {
      "cell_type": "code",
      "source": [
        "df.iloc[10:15][['Title','Rating','Revenue (Millions)']]"
      ],
      "metadata": {
        "id": "s0GtXyOokqGs"
      },
      "execution_count": null,
      "outputs": []
    },
    {
      "cell_type": "markdown",
      "source": [
        "# 5. Data Selection – Based on Conditional Filtering"
      ],
      "metadata": {
        "id": "7p5d8g3wlivv"
      }
    },
    {
      "cell_type": "code",
      "source": [
        "df[((df['Year'] >= 2006) & (df['Year'] <= 2016)) & (df['Rating'] < 6.0) & (df['Revenue (Millions)'] > df['Revenue (Millions)'].quantile(0.95))]"
      ],
      "metadata": {
        "id": "FOV1JEjrliRO"
      },
      "execution_count": null,
      "outputs": []
    },
    {
      "cell_type": "markdown",
      "source": [
        "# 6. Groupby operation"
      ],
      "metadata": {
        "id": "IRkmvPzxndU2"
      }
    },
    {
      "cell_type": "code",
      "source": [
        "df.groupby('Director')[['Rating']].mean().head()"
      ],
      "metadata": {
        "id": "UTLvnDiVnb4n"
      },
      "execution_count": null,
      "outputs": []
    },
    {
      "cell_type": "markdown",
      "source": [
        "# 7. Sorting operation"
      ],
      "metadata": {
        "id": "D_gshm7bqOTO"
      }
    },
    {
      "cell_type": "code",
      "source": [
        "df.groupby('Director')[['Rating']].mean().sort_values(['Rating'], ascending=False)"
      ],
      "metadata": {
        "id": "k9m0ptmep2r7"
      },
      "execution_count": null,
      "outputs": []
    },
    {
      "cell_type": "markdown",
      "source": [
        "# 8. Dealing with missing values"
      ],
      "metadata": {
        "id": "VhgCZv7YqbB1"
      }
    },
    {
      "cell_type": "code",
      "source": [
        "df.isnull().sum()"
      ],
      "metadata": {
        "id": "hJyD8mpfqisF"
      },
      "execution_count": null,
      "outputs": []
    },
    {
      "cell_type": "markdown",
      "source": [
        "# 9. Dropping columns and null values"
      ],
      "metadata": {
        "id": "WoSHCevkq2Ku"
      }
    },
    {
      "cell_type": "code",
      "source": [
        "df.dropna(axis=0, thresh=6)"
      ],
      "metadata": {
        "id": "BA5r0wOyq1Gv"
      },
      "execution_count": null,
      "outputs": []
    },
    {
      "cell_type": "code",
      "source": [
        "revenue_mean = df['Revenue (Millions)'].mean()\n",
        "print(\"The mean revenue is: \", revenue_mean)"
      ],
      "metadata": {
        "id": "qo7hROWrsMfB"
      },
      "execution_count": null,
      "outputs": []
    },
    {
      "cell_type": "code",
      "source": [
        "df['Revenue (Millions)'].fillna(revenue_mean, inplace=True)"
      ],
      "metadata": {
        "id": "NJLtKk1dsZj3"
      },
      "execution_count": null,
      "outputs": []
    },
    {
      "cell_type": "code",
      "source": [
        "df.isnull().sum()"
      ],
      "metadata": {
        "id": "46s8Ixj9suvC"
      },
      "execution_count": null,
      "outputs": []
    },
    {
      "cell_type": "code",
      "source": [
        "meta_mean = df['Metascore'].mean()\n",
        "print(\"The mean revenue is: \", meta_mean)"
      ],
      "metadata": {
        "id": "fGg1LOThtE3q"
      },
      "execution_count": null,
      "outputs": []
    },
    {
      "cell_type": "code",
      "source": [
        "df['Metascore'].fillna(meta_mean, inplace=True)"
      ],
      "metadata": {
        "id": "46xPUL28tQie"
      },
      "execution_count": null,
      "outputs": []
    },
    {
      "cell_type": "code",
      "source": [
        "df.isnull().sum()"
      ],
      "metadata": {
        "id": "76yd0M4BtmMP"
      },
      "execution_count": null,
      "outputs": []
    },
    {
      "cell_type": "markdown",
      "source": [
        "# 10. Apply( ) function"
      ],
      "metadata": {
        "id": "IqCoaZOptsUe"
      }
    },
    {
      "cell_type": "code",
      "source": [
        "def rating_group(rating):\n",
        "    if rating >= 7.5:\n",
        "        return 'Good'\n",
        "    elif rating >= 6.0:\n",
        "        return 'Average'\n",
        "    else:\n",
        "        return 'Bad'"
      ],
      "metadata": {
        "id": "SOHe67yptzQl"
      },
      "execution_count": null,
      "outputs": []
    },
    {
      "cell_type": "code",
      "source": [
        "df['Rating_category'] = df['Rating'].apply(rating_group)"
      ],
      "metadata": {
        "id": "Wr-EUYGSuNLb"
      },
      "execution_count": null,
      "outputs": []
    },
    {
      "cell_type": "code",
      "source": [
        "df[['Title','Director','Rating','Rating_category']]"
      ],
      "metadata": {
        "id": "sPkHZhOVuWF9"
      },
      "execution_count": null,
      "outputs": []
    },
    {
      "cell_type": "markdown",
      "source": [
        "# 11.plotiong use bar plot"
      ],
      "metadata": {
        "id": "TKswWytS1ikQ"
      }
    },
    {
      "cell_type": "code",
      "source": [
        "import matplotlib.pyplot as plt\n",
        "\n",
        "fig = plt.figure(figsize = (12, 6))\n",
        "plt.bar(df['Rating'],df['Revenue (Millions)'],width = 0.5,color='green')\n",
        " \n",
        "plt.xlabel(\"Movies Rating \")\n",
        "plt.ylabel(\" Movies Revenue (Millions)\")\n",
        "plt.title(\"Movies Rating and Revenue (Millions) \")\n",
        "plt.show()"
      ],
      "metadata": {
        "id": "jMWiPHyH1qmS"
      },
      "execution_count": null,
      "outputs": []
    }
  ]
}